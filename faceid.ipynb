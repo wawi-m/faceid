{
 "cells": [
  {
   "cell_type": "markdown",
   "metadata": {},
   "source": [
    "# Face Detection"
   ]
  },
  {
   "cell_type": "code",
   "execution_count": 44,
   "metadata": {},
   "outputs": [],
   "source": [
    "#import necessary modules\n",
    "\n",
    "import numpy as np\n",
    "import pandas as pd\n",
    "import cv2\n",
    "import os"
   ]
  },
  {
   "cell_type": "markdown",
   "metadata": {},
   "source": [
    "## Load images from dir\n"
   ]
  },
  {
   "cell_type": "code",
   "execution_count": 45,
   "metadata": {},
   "outputs": [],
   "source": [
    "#images path\n",
    "img_dir = '/workspaces/faceid/train_images'\n",
    "# Path to the folder containing test images\n",
    "test_img_dir = '/workspaces/faceid/test_images'\n",
    "# Create a mapping from folder names to integer labels\n",
    "label_map = {'wmaathai': 1, 'others': 0}"
   ]
  },
  {
   "cell_type": "markdown",
   "metadata": {},
   "source": [
    "## Train FaceRecognizer Model"
   ]
  },
  {
   "cell_type": "code",
   "execution_count": 46,
   "metadata": {},
   "outputs": [],
   "source": [
    "# initialize empty lists for training images and image-labels\n",
    "faces = []\n",
    "ids = []"
   ]
  },
  {
   "cell_type": "code",
   "execution_count": 47,
   "metadata": {},
   "outputs": [
    {
     "name": "stdout",
     "output_type": "stream",
     "text": [
      "Detected 0 face(s) in /workspaces/faceid/train_images/wmaathai/8.jpg\n",
      "Detected 0 face(s) in /workspaces/faceid/train_images/wmaathai/22.jpg\n",
      "Detected 1 face(s) in /workspaces/faceid/train_images/wmaathai/11.jpg\n",
      "Detected 0 face(s) in /workspaces/faceid/train_images/wmaathai/13.jpg\n",
      "Detected 1 face(s) in /workspaces/faceid/train_images/wmaathai/27.jpg\n",
      "Detected 1 face(s) in /workspaces/faceid/train_images/wmaathai/9.jpg\n",
      "Detected 0 face(s) in /workspaces/faceid/train_images/wmaathai/16.jpg\n",
      "Detected 1 face(s) in /workspaces/faceid/train_images/wmaathai/24.jpg\n",
      "Detected 1 face(s) in /workspaces/faceid/train_images/wmaathai/21.jpg\n",
      "Detected 1 face(s) in /workspaces/faceid/train_images/wmaathai/23.jpg\n",
      "Detected 0 face(s) in /workspaces/faceid/train_images/wmaathai/5.jpg\n",
      "Detected 1 face(s) in /workspaces/faceid/train_images/wmaathai/3.jpg\n",
      "Detected 0 face(s) in /workspaces/faceid/train_images/wmaathai/14.jpg\n",
      "Detected 0 face(s) in /workspaces/faceid/train_images/wmaathai/26.jpg\n",
      "Detected 0 face(s) in /workspaces/faceid/train_images/wmaathai/1.jpg\n",
      "Detected 1 face(s) in /workspaces/faceid/train_images/wmaathai/4.jpg\n",
      "Detected 0 face(s) in /workspaces/faceid/train_images/wmaathai/15.jpg\n",
      "Detected 0 face(s) in /workspaces/faceid/train_images/wmaathai/20.jpg\n",
      "Detected 1 face(s) in /workspaces/faceid/train_images/wmaathai/7.jpg\n",
      "Detected 0 face(s) in /workspaces/faceid/train_images/wmaathai/2.jpg\n",
      "Detected 0 face(s) in /workspaces/faceid/train_images/wmaathai/12.jpg\n",
      "Detected 0 face(s) in /workspaces/faceid/train_images/wmaathai/25.jpg\n",
      "Detected 0 face(s) in /workspaces/faceid/train_images/wmaathai/10.jpg\n",
      "Detected 0 face(s) in /workspaces/faceid/train_images/wmaathai/18.jpg\n",
      "Detected 0 face(s) in /workspaces/faceid/train_images/wmaathai/17.jpg\n",
      "Detected 1 face(s) in /workspaces/faceid/train_images/wmaathai/6.jpg\n",
      "Detected 1 face(s) in /workspaces/faceid/train_images/wmaathai/19.jpg\n",
      "Detected 1 face(s) in /workspaces/faceid/train_images/others/8.jpg\n",
      "Detected 0 face(s) in /workspaces/faceid/train_images/others/22.jpg\n",
      "Detected 0 face(s) in /workspaces/faceid/train_images/others/11.jpg\n",
      "Detected 0 face(s) in /workspaces/faceid/train_images/others/13.jpg\n",
      "Detected 1 face(s) in /workspaces/faceid/train_images/others/9.jpg\n",
      "Detected 1 face(s) in /workspaces/faceid/train_images/others/16.jpg\n",
      "Detected 2 face(s) in /workspaces/faceid/train_images/others/24.jpg\n",
      "Detected 0 face(s) in /workspaces/faceid/train_images/others/21.jpg\n",
      "Detected 1 face(s) in /workspaces/faceid/train_images/others/23.jpg\n",
      "Detected 1 face(s) in /workspaces/faceid/train_images/others/5.jpg\n",
      "Detected 1 face(s) in /workspaces/faceid/train_images/others/3.jpg\n",
      "Detected 0 face(s) in /workspaces/faceid/train_images/others/14.jpg\n",
      "Detected 1 face(s) in /workspaces/faceid/train_images/others/26.jpg\n",
      "Detected 1 face(s) in /workspaces/faceid/train_images/others/1.jpg\n",
      "Detected 1 face(s) in /workspaces/faceid/train_images/others/4.jpg\n",
      "Detected 1 face(s) in /workspaces/faceid/train_images/others/15.jpg\n",
      "Detected 0 face(s) in /workspaces/faceid/train_images/others/20.jpg\n",
      "Detected 0 face(s) in /workspaces/faceid/train_images/others/7.jpg\n",
      "Detected 1 face(s) in /workspaces/faceid/train_images/others/2.jpg\n",
      "Detected 1 face(s) in /workspaces/faceid/train_images/others/12.jpg\n",
      "Detected 1 face(s) in /workspaces/faceid/train_images/others/25.jpg\n",
      "Detected 0 face(s) in /workspaces/faceid/train_images/others/10.jpg\n",
      "Detected 1 face(s) in /workspaces/faceid/train_images/others/18.jpg\n",
      "Detected 1 face(s) in /workspaces/faceid/train_images/others/17.jpg\n",
      "Detected 1 face(s) in /workspaces/faceid/train_images/others/6.jpg\n",
      "Detected 0 face(s) in /workspaces/faceid/train_images/others/19.jpg\n"
     ]
    }
   ],
   "source": [
    "# train FaceRecognizer model\n",
    "for face_id in os.listdir(img_dir):\n",
    "    face_path = os.path.join(img_dir, face_id)\n",
    "    \n",
    "    if os.path.isdir(face_path): # Check if it's a directory (person's folder)\n",
    "        # Check if the folder name is in the label_map\n",
    "        if face_id in label_map:\n",
    "            label = label_map[face_id]\n",
    "        else:\n",
    "            continue  # Skip folders not in the label map\n",
    "\n",
    "        # process folder images\n",
    "        for img_label in os.listdir(face_path):\n",
    "            img_path = os.path.join(face_path, img_label)\n",
    "            \n",
    "            img = cv2.imread(img_path)\n",
    "\n",
    "            #skip invalid images\n",
    "            if img is None:\n",
    "                print(f\"Failed to load image {img_path}\")\n",
    "                continue\n",
    "\n",
    "            # convert image to grayscale\n",
    "            gray_img = cv2.cvtColor(img, cv2.COLOR_BGR2GRAY)\n",
    "\n",
    "            # load Haar CascadeClasifier and detect faces\n",
    "            face_cascade = cv2.CascadeClassifier('/workspaces/faceid/haarcascades/haarcascade_frontalface_default.xml')\n",
    "            faces_detected = face_cascade.detectMultiScale(gray_img, 1.3, 5) #minSize=(40, 40)\n",
    "\n",
    "            print(f\"Detected {len(faces_detected)} face(s) in {img_path}\")\n",
    "\n",
    "            # Process each face detected\n",
    "            for (x, y, w, h) in faces_detected:\n",
    "                face = gray_img[y:y+h, x:x+w]  # Extract face region\n",
    "                faces.append(face)  # Add the face to the list\n",
    "                ids.append(int(label))  # Add the corresponding label (ID)\n"
   ]
  },
  {
   "cell_type": "markdown",
   "metadata": {},
   "source": [
    "## Face Detection\n",
    "-consider if a face is not detected"
   ]
  },
  {
   "cell_type": "code",
   "execution_count": 48,
   "metadata": {},
   "outputs": [],
   "source": [
    "# processing images\n",
    "\"\"\"\n",
    "(x, y) is the top-left corner of the rectangle\n",
    "(w, h) is the width and height of the rectangle\n",
    "\"\"\"\n",
    "for (x, y, w, h) in faces_detected: # face bounding box\n",
    "    face = gray_img[y:y+h, x:x+w] # extract face from gray_img\n",
    "    faces.append(face) # add extracted face to list\n",
    "    ids.append(int(face_id))  # Label with the id (folder name)\n",
    "    #label, confidence = recognizer.predict(face_region)"
   ]
  },
  {
   "cell_type": "code",
   "execution_count": 49,
   "metadata": {},
   "outputs": [
    {
     "data": {
      "text/plain": [
       "'\\nprint(faces)\\nprint(ids)\\n# Check if faces and ids are empty\\nif len(faces) == 0 or len(ids) == 0:\\n    print(\"No faces detected or empty data.\")\\nelse:\\n    print(f\"Training data: {len(faces)} faces with {len(ids)} labels.\")\\n'"
      ]
     },
     "execution_count": 49,
     "metadata": {},
     "output_type": "execute_result"
    }
   ],
   "source": [
    "\"\"\"\n",
    "print(faces)\n",
    "print(ids)\n",
    "# Check if faces and ids are empty\n",
    "if len(faces) == 0 or len(ids) == 0:\n",
    "    print(\"No faces detected or empty data.\")\n",
    "else:\n",
    "    print(f\"Training data: {len(faces)} faces with {len(ids)} labels.\")\n",
    "\"\"\""
   ]
  },
  {
   "cell_type": "code",
   "execution_count": 50,
   "metadata": {},
   "outputs": [],
   "source": [
    "# Train the recognizer\n",
    "recognizer = cv2.face.LBPHFaceRecognizer_create()\n",
    "recognizer.train(faces, np.array(ids))\n"
   ]
  },
  {
   "cell_type": "code",
   "execution_count": 51,
   "metadata": {},
   "outputs": [
    {
     "name": "stdout",
     "output_type": "stream",
     "text": [
      "Model trained and saved successfully.\n"
     ]
    }
   ],
   "source": [
    "# Save the trained model\n",
    "recognizer.save('/workspaces/faceid/trained/trained_model.yml')\n",
    "print(\"Model trained and saved successfully.\")\n"
   ]
  },
  {
   "cell_type": "markdown",
   "metadata": {},
   "source": [
    "# Testing"
   ]
  },
  {
   "cell_type": "code",
   "execution_count": 52,
   "metadata": {},
   "outputs": [],
   "source": [
    "# Load the trained model for face recognition\n",
    "recognizer.read('/workspaces/faceid/trained/trained_model.yml')"
   ]
  },
  {
   "cell_type": "code",
   "execution_count": 55,
   "metadata": {},
   "outputs": [
    {
     "name": "stdout",
     "output_type": "stream",
     "text": [
      "Processing image: 8.jpg\n",
      "Processing image: 11.jpg\n",
      "Processing image: 13.jpg\n",
      "  Detected face with label: 0, confidence: 86.99078925398025\n",
      "13.jpg is not wmaathai\n",
      "Processing image: 9.jpg\n",
      "Processing image: 16.jpg\n",
      "  Detected face with label: 0, confidence: 107.71763313927563\n",
      "16.jpg is unknown (confidence too high)\n",
      "Processing image: 5.jpg\n",
      "Processing image: 3.jpg\n",
      "  Detected face with label: 0, confidence: 67.41206249413666\n",
      "3.jpg is not wmaathai\n",
      "Processing image: 14.jpg\n",
      "  Detected face with label: 0, confidence: 103.99205966192766\n",
      "14.jpg is unknown (confidence too high)\n",
      "Processing image: 1.jpg\n",
      "Processing image: 4.jpg\n",
      "  Detected face with label: 0, confidence: 108.01684593306607\n",
      "4.jpg is unknown (confidence too high)\n",
      "Processing image: 15.jpg\n",
      "Processing image: 20.jpg\n",
      "Processing image: 7.jpg\n",
      "Processing image: 2.jpg\n",
      "Processing image: 12.jpg\n",
      "Processing image: 10.jpg\n",
      "  Detected face with label: 0, confidence: 91.24775460385793\n",
      "10.jpg is not wmaathai\n",
      "Processing image: 18.jpg\n",
      "  Detected face with label: 1, confidence: 99.74770988144303\n",
      "18.jpg is wmaathai\n",
      "Processing image: 17.jpg\n",
      "Processing image: 6.jpg\n",
      "Processing image: 19.jpg\n",
      "  Detected face with label: 0, confidence: 89.81171881151006\n",
      "19.jpg is not wmaathai\n"
     ]
    }
   ],
   "source": [
    "# Loop through the test images\n",
    "for test_image_name in os.listdir(test_img_dir):\n",
    "    test_image_path = os.path.join(test_img_dir, test_image_name)\n",
    "\n",
    "    test_img = cv2.imread(test_image_path)\n",
    "    if test_img is None:\n",
    "        print(f\"Failed to load image {test_image_path}\")\n",
    "        continue  # Skip invalid images\n",
    "\n",
    "    # Convert test image to grayscale for face detection\n",
    "    gray_img = cv2.cvtColor(test_img, cv2.COLOR_BGR2GRAY)\n",
    "\n",
    "    # Load Haar Cascade for face detection\n",
    "    face_cascade = cv2.CascadeClassifier(cv2.data.haarcascades + 'haarcascade_frontalface_default.xml')\n",
    "\n",
    "    # Detect faces in the test image\n",
    "    faces_detected = face_cascade.detectMultiScale(gray_img, 1.3, 5)\n",
    "\n",
    "    # Variable to track if a recognized face is found\n",
    "    is_wmaathai = False\n",
    "    print(f\"Processing image: {test_image_name}\")\n",
    "\n",
    "    # Process each face detected\n",
    "    for (x, y, w, h) in faces_detected:\n",
    "        face_region = gray_img[y:y + h, x:x + w]  # Extract the face region\n",
    "\n",
    "       # Recognize the face using the trained recognizer\n",
    "        label, confidence = recognizer.predict(face_region)\n",
    "\n",
    "        # Log the label and confidence for debugging\n",
    "        print(f\"  Detected face with label: {label}, confidence: {confidence}\")\n",
    "\n",
    "        # check if value of recognition confidence is good\n",
    "        if confidence < 100:  # Low confidence means a good match\n",
    "            if label == 1:\n",
    "                is_wmaathai = True\n",
    "                print(f\"{test_image_name} is wmaathai\")\n",
    "            else:\n",
    "                print(f\"{test_image_name} is not wmaathai\")\n",
    "        else:\n",
    "            # If the confidence is too high, mark the face as unknown\n",
    "            print(f\"{test_image_name} is unknown (confidence too high)\")\n",
    "\n",
    "# If no faces were detected or recognized, output unknown\n",
    "if len(faces_detected) == 0:\n",
    "    print(f\"No faces detected in {test_image_name}\")\n",
    "\n",
    "        "
   ]
  },
  {
   "cell_type": "code",
   "execution_count": 57,
   "metadata": {},
   "outputs": [],
   "source": [
    "# Draw a rectangle around the face and display the label\n",
    "        # color = (0, 255, 0)  # Green color for recognized faces    \n",
    "#cv2.rectangle(test_img, (x, y), (x + w, y + h), color, 2)\n",
    "            #cv2.putText(test_img, f'Person {label}', (x, y - 10), cv2.FONT_HERSHEY_SIMPLEX, 0.9, color, 2)\n",
    "        #else:\n",
    "            # If the confidence is high, mark the face as unknown\n",
    "            #cv2.putText(test_img, 'Unknown', (x, y - 10), cv2.FONT_HERSHEY_SIMPLEX, 0.9, (0, 0, 255), 2)\n",
    "\n",
    "    # Show the result\n",
    "    #cv2.imshow(f\"Recognized Faces - {test_image_name}\", test_img)\n",
    "    # Save the result to a file instead of showing it\n",
    "    #cv2.imwrite(\"recognized_faces.jpg\", test_img)\n",
    "\n",
    "    #cv2.waitKey(0)  # Wait for any key to close the window\n",
    "\n",
    "#cv2.destroyAllWindows()\n"
   ]
  }
 ],
 "metadata": {
  "kernelspec": {
   "display_name": ".venv",
   "language": "python",
   "name": "python3"
  },
  "language_info": {
   "codemirror_mode": {
    "name": "ipython",
    "version": 3
   },
   "file_extension": ".py",
   "mimetype": "text/x-python",
   "name": "python",
   "nbconvert_exporter": "python",
   "pygments_lexer": "ipython3",
   "version": "3.8.10"
  }
 },
 "nbformat": 4,
 "nbformat_minor": 2
}
