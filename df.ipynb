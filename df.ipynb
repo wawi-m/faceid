{
 "cells": [
  {
   "cell_type": "code",
   "execution_count": 11,
   "metadata": {},
   "outputs": [],
   "source": [
    "import cv2\n",
    "import os\n",
    "import matplotlib.pyplot as plt\n",
    "\n",
    "# Load the pre-trained Haar cascade classifiers\n",
    "front_face_cascade = cv2.CascadeClassifier(cv2.data.haarcascades + 'haarcascade_frontalface_default.xml')\n",
    "side_face_cascade = cv2.CascadeClassifier(cv2.data.haarcascades + 'haarcascade_profileface.xml')\n",
    "\n",
    "# Image path\n",
    "img_dir = \"train_images\"\n",
    "\n",
    "# loop through all images in folder\n",
    "for filename in os.listdir(img_dir):\n",
    "    image_path = os.path.join(img_dir, filename)\n",
    "\n",
    "    #check image extensions\n",
    "    if filename.lower().endswith(('.png', '.jpg', '.jpeg')):\n",
    "\n",
    "        # Read the image\n",
    "        img = cv2.imread(image_path)\n",
    "\n",
    "        if img is None:\n",
    "            print(f\"Failed to load image: {image_path}\")\n",
    "        else:\n",
    "            print(f\"Loaded image: {image_path}\")\n",
    "\n",
    "        print(image_path)\n",
    "\n",
    "\n",
    "        # Convert the image to grayscale (Haar cascades work with grayscale images)\n",
    "        gray = cv2.cvtColor(img, cv2.COLOR_BGR2GRAY)\n",
    "\n",
    "        # Detect faces in the front view\n",
    "        front_faces = front_face_cascade.detectMultiScale(gray, scaleFactor=1.1, minNeighbors=5, minSize=(30, 30))\n",
    "\n",
    "        # Detect faces in the side view\n",
    "        side_faces = side_face_cascade.detectMultiScale(gray, scaleFactor=1.1, minNeighbors=5, minSize=(30, 30))\n",
    "\n",
    "        # Draw rectangles around detected faces\n",
    "        for (x, y, w, h) in front_faces:\n",
    "            cv2.rectangle(img, (x, y), (x + w, y + h), (0, 255, 0), 2)\n",
    "\n",
    "        for (x, y, w, h) in side_faces:\n",
    "            cv2.rectangle(img, (x, y), (x + w, y + h), (255, 0, 0), 2)\n",
    "\n",
    "        # Convert BGR to RGB for displaying with matplotlib\n",
    "        img_rgb = cv2.cvtColor(img, cv2.COLOR_BGR2RGB)\n",
    "\n",
    "        # Display the result using matplotlib\n",
    "        plt.imshow(img_rgb)\n",
    "        plt.axis('off')  # Turn off axis\n",
    "        plt.show()"
   ]
  }
 ],
 "metadata": {
  "kernelspec": {
   "display_name": "faceid_env",
   "language": "python",
   "name": "python3"
  },
  "language_info": {
   "codemirror_mode": {
    "name": "ipython",
    "version": 3
   },
   "file_extension": ".py",
   "mimetype": "text/x-python",
   "name": "python",
   "nbconvert_exporter": "python",
   "pygments_lexer": "ipython3",
   "version": "3.12.8"
  }
 },
 "nbformat": 4,
 "nbformat_minor": 2
}
