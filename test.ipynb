{
 "cells": [
  {
   "cell_type": "code",
   "execution_count": null,
   "metadata": {},
   "outputs": [],
   "source": [
    "import cv2\n",
    "import os\n",
    "import numpy as np\n",
    "\n",
    "faces = []  # List to hold faces detected in images\n",
    "ids = []    # List to hold labels (IDs corresponding to the faces)\n",
    "\n",
    "# Define image directory\n",
    "img_dir = \"/workspaces/faceid/train_images\"  # Replace with the correct path to your image folder\n",
    "\n",
    "# Initialize face recognizer\n",
    "recognizer = cv2.face.LBPHFaceRecognizer_create()\n",
    "\n",
    "# Iterate through directories in the img_dir\n",
    "for face_id in os.listdir(img_dir):\n",
    "    face_path = os.path.join(img_dir, face_id)\n",
    "    \n",
    "    if os.path.isdir(face_path):  # Check if it's a directory (person's folder)\n",
    "        for img_label in os.listdir(face_path):\n",
    "            img_path = os.path.join(face_path, img_label)\n",
    "            \n",
    "            img = cv2.imread(img_path)\n",
    "            \n",
    "            # Convert to grayscale for face detection\n",
    "            gray_img = cv2.cvtColor(img, cv2.COLOR_BGR2GRAY)\n",
    "            \n",
    "            # Detect faces in the image\n",
    "            face_cascade = cv2.CascadeClassifier(cv2.data.haarcascades + 'haarcascade_frontalface_default.xml')\n",
    "            faces_detected = face_cascade.detectMultiScale(gray_img, 1.3, 5)\n",
    "            \n",
    "            # Process each face detected\n",
    "            for (x, y, w, h) in faces_detected:\n",
    "                face = gray_img[y:y+h, x:x+w]  # Extract face region\n",
    "                faces.append(face)  # Add the face to the list\n",
    "                ids.append(int(face_id))  # Add the corresponding label (ID)\n",
    "                \n",
    "# Train the recognizer with the collected faces and labels\n",
    "recognizer.train(faces, np.array(ids))\n",
    "\n",
    "# Save the trained model\n",
    "recognizer.save('trained_model.yml')\n"
   ]
  }
 ],
 "metadata": {
  "kernelspec": {
   "display_name": ".venv",
   "language": "python",
   "name": "python3"
  },
  "language_info": {
   "codemirror_mode": {
    "name": "ipython",
    "version": 3
   },
   "file_extension": ".py",
   "mimetype": "text/x-python",
   "name": "python",
   "nbconvert_exporter": "python",
   "pygments_lexer": "ipython3",
   "version": "3.8.10"
  }
 },
 "nbformat": 4,
 "nbformat_minor": 2
}
